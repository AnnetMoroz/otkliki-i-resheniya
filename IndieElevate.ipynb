{
  "nbformat": 4,
  "nbformat_minor": 0,
  "metadata": {
    "colab": {
      "provenance": []
    },
    "kernelspec": {
      "name": "python3",
      "display_name": "Python 3"
    },
    "language_info": {
      "name": "python"
    }
  },
  "cells": [
    {
      "cell_type": "code",
      "execution_count": null,
      "metadata": {
        "id": "9OJqY-4jR4Tr"
      },
      "outputs": [],
      "source": [
        "import pandas as pd\n",
        "import matplotlib.pyplot as plt\n",
        "import seaborn as sb\n",
        "import numpy as np\n"
      ]
    },
    {
      "cell_type": "code",
      "source": [
        "df=pd.read_csv('data.csv')\n",
        "pd.set_option('display.max_rows',None)\n",
        "print(df.info())"
      ],
      "metadata": {
        "colab": {
          "base_uri": "https://localhost:8080/"
        },
        "id": "GP3g08sFS5_y",
        "outputId": "86df6021-0d35-4b2a-b721-760c2ecb9080"
      },
      "execution_count": null,
      "outputs": [
        {
          "output_type": "stream",
          "name": "stdout",
          "text": [
            "<class 'pandas.core.frame.DataFrame'>\n",
            "RangeIndex: 325 entries, 0 to 324\n",
            "Data columns (total 3 columns):\n",
            " #   Column           Non-Null Count  Dtype  \n",
            "---  ------           --------------  -----  \n",
            " 0   applicant_name   325 non-null    object \n",
            " 1   Age              281 non-null    float64\n",
            " 2   Ответ на вопрос  325 non-null    object \n",
            "dtypes: float64(1), object(2)\n",
            "memory usage: 7.7+ KB\n",
            "None\n"
          ]
        }
      ]
    },
    {
      "cell_type": "code",
      "source": [
        "print(df.head(10))"
      ],
      "metadata": {
        "colab": {
          "base_uri": "https://localhost:8080/"
        },
        "id": "c2Fxj4z7TiiA",
        "outputId": "668c970a-8ef5-4199-9ea9-c0cf4b9b4be2"
      },
      "execution_count": null,
      "outputs": [
        {
          "output_type": "stream",
          "name": "stdout",
          "text": [
            "  applicant_name   Age   Ответ на вопрос\n",
            "0         name_0  49.0               нет\n",
            "1         name_1  37.0                да\n",
            "2         name_2  18.0               нет\n",
            "3         name_3  36.0  неверное решение\n",
            "4         name_4  31.0                да\n",
            "5         name_5  36.0                да\n",
            "6         name_6  27.0               нет\n",
            "7         name_7  36.0                да\n",
            "8         name_8   NaN               нет\n",
            "9         name_9  21.0                да\n"
          ]
        }
      ]
    },
    {
      "cell_type": "code",
      "source": [
        "df=df.rename(columns={'Ответ на вопрос':'Answer'}) #переименуем колонку для красоты\n",
        "print(df.info())"
      ],
      "metadata": {
        "colab": {
          "base_uri": "https://localhost:8080/"
        },
        "id": "clR5tVnCU02w",
        "outputId": "95fa4f86-41d7-4eee-b8b0-61447ed11e40"
      },
      "execution_count": null,
      "outputs": [
        {
          "output_type": "stream",
          "name": "stdout",
          "text": [
            "<class 'pandas.core.frame.DataFrame'>\n",
            "RangeIndex: 325 entries, 0 to 324\n",
            "Data columns (total 3 columns):\n",
            " #   Column          Non-Null Count  Dtype  \n",
            "---  ------          --------------  -----  \n",
            " 0   applicant_name  325 non-null    object \n",
            " 1   Age             281 non-null    float64\n",
            " 2   Answer          325 non-null    object \n",
            "dtypes: float64(1), object(2)\n",
            "memory usage: 7.7+ KB\n",
            "None\n"
          ]
        }
      ]
    },
    {
      "cell_type": "code",
      "source": [
        "print(df.describe()) #сделаем срез данных,чтобы посмотреть аномалии"
      ],
      "metadata": {
        "colab": {
          "base_uri": "https://localhost:8080/"
        },
        "id": "tVE1zK5SbzfL",
        "outputId": "b221bb01-170c-4569-9030-3e9935de1dcd"
      },
      "execution_count": null,
      "outputs": [
        {
          "output_type": "stream",
          "name": "stdout",
          "text": [
            "              Age\n",
            "count  281.000000\n",
            "mean    26.800712\n",
            "std     11.999232\n",
            "min     15.000000\n",
            "25%     21.000000\n",
            "50%     24.000000\n",
            "75%     31.000000\n",
            "max    186.000000\n"
          ]
        }
      ]
    },
    {
      "cell_type": "code",
      "source": [
        "#Заменим аномальные и пустые значения возраста( < 18 лет и >= 65 лет) в колонке Age на медиану,т.к.рассматриваем совершеннолетних граждан до пенсионного возраста\n",
        "\n",
        "age_median=df['Age'].median()\n",
        "df['Age']=np.where(df['Age']< 18,age_median,df['Age'])\n",
        "df['Age']=np.where(df['Age'] >= 65 ,age_median,df['Age'])\n",
        "df['Age']=df['Age'].fillna(age_median)"
      ],
      "metadata": {
        "id": "XxMnJd8KhGrV"
      },
      "execution_count": null,
      "outputs": []
    },
    {
      "cell_type": "code",
      "source": [
        "df['Age']=df['Age'].astype(int)"
      ],
      "metadata": {
        "id": "xRIA77cc6Aws"
      },
      "execution_count": null,
      "outputs": []
    },
    {
      "cell_type": "code",
      "source": [
        "print(df.describe())"
      ],
      "metadata": {
        "colab": {
          "base_uri": "https://localhost:8080/"
        },
        "id": "7jYPAck-jJ-6",
        "outputId": "3b2a2bf2-596e-4ee5-c5d7-f40652d9d20f"
      },
      "execution_count": null,
      "outputs": [
        {
          "output_type": "stream",
          "name": "stdout",
          "text": [
            "              Age\n",
            "count  325.000000\n",
            "mean    25.966154\n",
            "std      6.309563\n",
            "min     18.000000\n",
            "25%     21.000000\n",
            "50%     24.000000\n",
            "75%     29.000000\n",
            "max     50.000000\n"
          ]
        }
      ]
    },
    {
      "cell_type": "code",
      "source": [
        "print(df.info())"
      ],
      "metadata": {
        "colab": {
          "base_uri": "https://localhost:8080/"
        },
        "id": "KOF4YhNPAccS",
        "outputId": "2f650c83-b9ee-4fce-aae2-10678f830ca7"
      },
      "execution_count": null,
      "outputs": [
        {
          "output_type": "stream",
          "name": "stdout",
          "text": [
            "<class 'pandas.core.frame.DataFrame'>\n",
            "RangeIndex: 325 entries, 0 to 324\n",
            "Data columns (total 3 columns):\n",
            " #   Column          Non-Null Count  Dtype \n",
            "---  ------          --------------  ----- \n",
            " 0   applicant_name  325 non-null    object\n",
            " 1   Age             325 non-null    int64 \n",
            " 2   Answer          325 non-null    object\n",
            "dtypes: int64(1), object(2)\n",
            "memory usage: 7.7+ KB\n",
            "None\n"
          ]
        }
      ]
    },
    {
      "cell_type": "code",
      "source": [
        "#разобъем соискателей на группы по возрасту\n",
        "bins=[0,19,29,39,49,65]\n",
        "labels=['<20','20-29','30-39','40-49','50+']\n",
        "df['Age_group']=pd.cut(df['Age'],bins=bins,labels=labels,right=True)\n",
        "age_group_count=df['Age_group'].value_counts().sort_index()\n",
        "print(age_group_count)"
      ],
      "metadata": {
        "colab": {
          "base_uri": "https://localhost:8080/"
        },
        "id": "nsAQZBe9j7rC",
        "outputId": "f0054f22-43c9-415d-ea6c-a1d6cb6cdfd5"
      },
      "execution_count": null,
      "outputs": [
        {
          "output_type": "stream",
          "name": "stdout",
          "text": [
            "Age_group\n",
            "<20       32\n",
            "20-29    215\n",
            "30-39     64\n",
            "40-49     13\n",
            "50+        1\n",
            "Name: count, dtype: int64\n"
          ]
        }
      ]
    },
    {
      "cell_type": "code",
      "source": [
        "sb.scatterplot(data=df,x=df['Age'],y=df['Answer'],hue=df['Age_group'])\n",
        "plt.title('График зависимости возраста соискателей и наличия решения задачи')\n",
        "plt.xlabel('Возраст соискателей')\n",
        "plt.ylabel('Решение задачи')\n",
        "plt.show()"
      ],
      "metadata": {
        "colab": {
          "base_uri": "https://localhost:8080/",
          "height": 472
        },
        "id": "-m0P1Q5muwje",
        "outputId": "5d9a1711-e59d-44be-b81f-223f57c52f89"
      },
      "execution_count": null,
      "outputs": [
        {
          "output_type": "display_data",
          "data": {
            "text/plain": [
              "<Figure size 640x480 with 1 Axes>"
            ],
            "image/png": "[encoded data removed]"
          },
          "metadata": {}
        }
      ]
    },
    {
      "cell_type": "markdown",
      "source": [
        "Судя по графику,наличие или отсутствие решения задачи не зависит от возраста соискателя"
      ],
      "metadata": {
        "id": "UkZ0oAUJx2KY"
      }
    }
  ]
}